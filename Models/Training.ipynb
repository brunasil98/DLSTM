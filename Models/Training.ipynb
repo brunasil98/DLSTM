{
 "cells": [
  {
   "cell_type": "code",
   "execution_count": null,
   "id": "annual-aside",
   "metadata": {},
   "outputs": [],
   "source": [
    "#Import Libraries\n",
    "\n",
    "import Models\n",
    "from keras.layers.core import Dense, Activation, Dropout \n",
    "from keras.callbacks import EarlyStopping\n",
    "from keras.layers.recurrent import LSTM\n",
    "from numpy import asarray, savetxt, loadtxt\n",
    "from sklearn.model_selection import train_test_split\n",
    "from keras.models import load_model\n"
   ]
  },
  {
   "cell_type": "code",
   "execution_count": null,
   "id": "weighted-vegetable",
   "metadata": {},
   "outputs": [],
   "source": [
    "# Obtain the DataSet from the Input folder\n",
    "\n",
    "X_ds = loadtxt('../Inputs/train_x.csv', delimiter=',')\n",
    "Y_new = loadtxt('../Inputs/train_y.csv', delimiter=',')"
   ]
  },
  {
   "cell_type": "code",
   "execution_count": null,
   "id": "after-wiring",
   "metadata": {},
   "outputs": [],
   "source": [
    "#Reshape and split the data in train and test set\n",
    "\n",
    "X_ds = X_ds.reshape((970,1,5))\n",
    "Y_new = Y_new.reshape((970,1,4900))\n",
    "X_train, X_test, y_train, y_test = train_test_split(X_ds, Y_new, test_size=0.2, random_state = 75)"
   ]
  },
  {
   "cell_type": "code",
   "execution_count": null,
   "id": "indian-awareness",
   "metadata": {},
   "outputs": [],
   "source": [
    "# Adquire the model from the Models.py file\n",
    "\n",
    "m_2LSTM = Models.model_2LSTM()\n",
    "m_2LSTM = Models.model_3LSTM()"
   ]
  },
  {
   "cell_type": "code",
   "execution_count": null,
   "id": "innovative-advice",
   "metadata": {},
   "outputs": [],
   "source": [
    "# Print Summarize for each Model\n",
    "print(f'Summarize of Model with 2 LSTM: {m_2LSTM.summary()}')\n",
    "print(f'Summarize of Model with 3 LSTM: {m_3LSTM.summary()}')"
   ]
  },
  {
   "cell_type": "code",
   "execution_count": null,
   "id": "meaning-constitutional",
   "metadata": {},
   "outputs": [],
   "source": [
    "# Compile each Model using the function from the Models.py file\n",
    "\n",
    "m_2LSTM,es = Models.model_compile(m_2LSTM)\n",
    "m_3LSTM,es = Models.model_compile(m_2LSTM)    "
   ]
  },
  {
   "cell_type": "code",
   "execution_count": null,
   "id": "listed-management",
   "metadata": {},
   "outputs": [],
   "source": [
    "# Train the model\n",
    "\n",
    "m_2LSTM.fit(X_train, y_train, batch_size=12, epochs=1200, \n",
    "            validation_data= (X_test,y_test),callbacks=[es])"
   ]
  },
  {
   "cell_type": "code",
   "execution_count": null,
   "id": "heated-memory",
   "metadata": {},
   "outputs": [],
   "source": [
    "# Save the trained model\n",
    "\n",
    "m_2LSTM.save('Final_resutls_2LSTM.h5')"
   ]
  },
  {
   "cell_type": "code",
   "execution_count": null,
   "id": "burning-ghana",
   "metadata": {},
   "outputs": [],
   "source": [
    "# Train the model\n",
    "\n",
    "m_3LSTM.fit(X_train, y_train, batch_size=12, epochs=1200, \n",
    "            validation_data= (X_test,y_test),callbacks=[es])"
   ]
  },
  {
   "cell_type": "code",
   "execution_count": null,
   "id": "aging-mention",
   "metadata": {},
   "outputs": [],
   "source": [
    "# Save the trained model\n",
    "\n",
    "m_3LSTM.save('3LSTM_4900_BM.h5')"
   ]
  }
 ],
 "metadata": {
  "kernelspec": {
   "display_name": "Python 3 (ipykernel)",
   "language": "python",
   "name": "python3"
  },
  "language_info": {
   "codemirror_mode": {
    "name": "ipython",
    "version": 3
   },
   "file_extension": ".py",
   "mimetype": "text/x-python",
   "name": "python",
   "nbconvert_exporter": "python",
   "pygments_lexer": "ipython3",
   "version": "3.8.12"
  }
 },
 "nbformat": 4,
 "nbformat_minor": 5
}
