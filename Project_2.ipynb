{
  "nbformat": 4,
  "nbformat_minor": 0,
  "metadata": {
    "accelerator": "GPU",
    "colab": {
      "name": "Project_1.ipynb",
      "provenance": [],
      "collapsed_sections": [],
      "machine_shape": "hm",
      "authorship_tag": "ABX9TyMEVuo8o2Xw/wIPGmeB01Hu",
      "include_colab_link": true
    },
    "kernelspec": {
      "display_name": "Python 3",
      "name": "python3"
    },
    "language_info": {
      "name": "python"
    }
  },
  "cells": [
    {
      "cell_type": "markdown",
      "metadata": {
        "id": "view-in-github",
        "colab_type": "text"
      },
      "source": [
        "<a href=\"https://colab.research.google.com/github/brunasil98/LSTM/blob/master/Project_2.ipynb\" target=\"_parent\"><img src=\"https://colab.research.google.com/assets/colab-badge.svg\" alt=\"Open In Colab\"/></a>"
      ]
    },
    {
      "cell_type": "code",
      "metadata": {
        "id": "_5NJ-mNljJAr"
      },
      "source": [
        "import pandas as pd  \n",
        "from random import random\n",
        "import numpy as np\n",
        "from sklearn.model_selection import train_test_split\n",
        "from keras.models import Sequential  \n",
        "from keras.layers.core import Dense, Activation  \n",
        "from keras.layers.recurrent import LSTM\n",
        "import matplotlib.pyplot as plt\n",
        "import os\n",
        "\n",
        "import cv2"
      ],
      "execution_count": null,
      "outputs": []
    },
    {
      "cell_type": "code",
      "metadata": {
        "colab": {
          "base_uri": "https://localhost:8080/"
        },
        "id": "Pi-hIFeStuHg",
        "outputId": "1014db35-1785-4444-ee66-59ff1707ddb7"
      },
      "source": [
        "from google.colab import drive\n",
        "drive.mount('/content/drive')"
      ],
      "execution_count": null,
      "outputs": [
        {
          "output_type": "stream",
          "name": "stdout",
          "text": [
            "Drive already mounted at /content/drive; to attempt to forcibly remount, call drive.mount(\"/content/drive\", force_remount=True).\n"
          ]
        }
      ]
    },
    {
      "cell_type": "code",
      "metadata": {
        "id": "ayyVYR5cJqLX"
      },
      "source": [
        "path = '/content/drive/MyDrive/HISPC /DATA/TRY/'\n"
      ],
      "execution_count": null,
      "outputs": []
    },
    {
      "cell_type": "code",
      "metadata": {
        "id": "WO4VfGL7ko7D"
      },
      "source": [
        "all_files = os.listdir(path)\n"
      ],
      "execution_count": null,
      "outputs": []
    },
    {
      "cell_type": "code",
      "metadata": {
        "id": "Z5_5JZfxbMwC"
      },
      "source": [
        "X_ds  = np.zeros([100000,5])\n",
        "Y_ds  = np.zeros([100000,1])"
      ],
      "execution_count": null,
      "outputs": []
    },
    {
      "cell_type": "code",
      "metadata": {
        "colab": {
          "base_uri": "https://localhost:8080/"
        },
        "id": "CbDmKpyzeCpL",
        "outputId": "61ddf371-0044-4620-f686-83fa2cf500a7"
      },
      "source": [
        "len(all_files)"
      ],
      "execution_count": null,
      "outputs": [
        {
          "output_type": "execute_result",
          "data": {
            "text/plain": [
              "341"
            ]
          },
          "metadata": {},
          "execution_count": 28
        }
      ]
    },
    {
      "cell_type": "code",
      "metadata": {
        "colab": {
          "base_uri": "https://localhost:8080/"
        },
        "id": "TAN9sIQQ_zHn",
        "outputId": "64fda7e1-4097-44ac-efd9-bd11ae63f40f"
      },
      "source": [
        "all_files"
      ],
      "execution_count": null,
      "outputs": [
        {
          "output_type": "execute_result",
          "data": {
            "text/plain": [
              "['ICaL_0.csv',\n",
              " 'ICaL_4.csv',\n",
              " 'ICaL_3.csv',\n",
              " 'ICaL_6.csv',\n",
              " 'ICaL_5.csv',\n",
              " 'ICaL_10.csv',\n",
              " 'ICaL_9.csv',\n",
              " 'ICaL_7.csv',\n",
              " 'ICaL_8.csv',\n",
              " 'IK1_0.csv',\n",
              " 'IK1_1.csv',\n",
              " 'IK1_3.csv',\n",
              " 'IK1_2.csv',\n",
              " 'IK1_4.csv',\n",
              " 'IK1_5.csv',\n",
              " 'IK1_6.csv',\n",
              " 'IK1_7.csv',\n",
              " 'IK1_9.csv',\n",
              " 'IK1_8.csv',\n",
              " 'IK1_10.csv',\n",
              " 'IKr_10.csv',\n",
              " 'IKr_9.csv',\n",
              " 'IKr_0.csv',\n",
              " 'IKr_1.csv',\n",
              " 'IKr_2.csv',\n",
              " 'IKr_3.csv',\n",
              " 'IKr_4.csv',\n",
              " 'IKr_5.csv',\n",
              " 'IKr_8.csv',\n",
              " 'IKr_7.csv',\n",
              " 'IKr_6.csv',\n",
              " 'IKur_1.csv',\n",
              " 'IKur_0.csv',\n",
              " 'IKur_9.csv',\n",
              " 'IKur_8.csv',\n",
              " 'IKur_2.csv',\n",
              " 'IKur_3.csv',\n",
              " 'IKur_5.csv',\n",
              " 'IKur_4.csv',\n",
              " 'IKur_6.csv',\n",
              " 'IKur_7.csv',\n",
              " 'IKur_10.csv',\n",
              " 'INa_10.csv',\n",
              " 'INa_9.csv',\n",
              " 'INa_8.csv',\n",
              " 'INa_7.csv',\n",
              " 'INa_5.csv',\n",
              " 'INa_6.csv',\n",
              " 'INa_4.csv',\n",
              " 'INa_3.csv',\n",
              " 'INa_1.csv',\n",
              " 'INa_2.csv',\n",
              " 'INa_0.csv',\n",
              " 'ICaL_IK1_9.csv',\n",
              " 'ICaL_IK1_10.csv',\n",
              " 'ICaL_IK1_7.csv',\n",
              " 'ICaL_IK1_8.csv',\n",
              " 'ICaL_IK1_5.csv',\n",
              " 'ICaL_IK1_6.csv',\n",
              " 'ICaL_IK1_3.csv',\n",
              " 'ICaL_IK1_4.csv',\n",
              " 'ICaL_IK1_1.csv',\n",
              " 'ICaL_IK1_2.csv',\n",
              " 'ICaL_IK1_0.csv',\n",
              " 'ICaL_IKr_9.csv',\n",
              " 'ICaL_IKr_10.csv',\n",
              " 'ICaL_IKr_7.csv',\n",
              " 'ICaL_IKr_8.csv',\n",
              " 'ICaL_IKr_6.csv',\n",
              " 'ICaL_IKr_5.csv',\n",
              " 'ICaL_IKr_3.csv',\n",
              " 'ICaL_IKr_4.csv',\n",
              " 'ICaL_IKr_1.csv',\n",
              " 'ICaL_IKr_2.csv',\n",
              " 'ICaL_IKr_0.csv',\n",
              " 'ICaL_IKur_10.csv',\n",
              " 'ICaL_IKur_9.csv',\n",
              " 'ICaL_IKur_8.csv',\n",
              " 'ICaL_IKur_7.csv',\n",
              " 'ICaL_IKur_6.csv',\n",
              " 'ICaL_IKur_5.csv',\n",
              " 'ICaL_IKur_4.csv',\n",
              " 'ICaL_IKur_3.csv',\n",
              " 'ICaL_IKur_1.csv',\n",
              " 'ICaL_IKur_2.csv',\n",
              " 'ICaL_IKur_0.csv',\n",
              " 'ICaL_INa_9.csv',\n",
              " 'ICaL_INa_10.csv',\n",
              " 'ICaL_INa_7.csv',\n",
              " 'ICaL_INa_8.csv',\n",
              " 'ICaL_INa_6.csv',\n",
              " 'ICaL_INa_5.csv',\n",
              " 'ICaL_INa_3.csv',\n",
              " 'ICaL_INa_4.csv',\n",
              " 'ICaL_INa_2.csv',\n",
              " 'ICaL_INa_1.csv',\n",
              " 'ICaL_INa_0.csv',\n",
              " 'IK1_IKr_10.csv',\n",
              " 'IK1_IKr_9.csv',\n",
              " 'IK1_IKr_8.csv',\n",
              " 'IK1_IKr_7.csv',\n",
              " 'IK1_IKr_6.csv',\n",
              " 'IK1_IKr_5.csv',\n",
              " 'IK1_IKr_0.csv',\n",
              " 'IK1_IKr_1.csv',\n",
              " 'IK1_IKr_4.csv',\n",
              " 'IK1_IKr_3.csv',\n",
              " 'IK1_IKr_2.csv',\n",
              " 'IK1_IKur_10.csv',\n",
              " 'IK1_IKur_9.csv',\n",
              " 'IK1_IKur_8.csv',\n",
              " 'IK1_IKur_7.csv',\n",
              " 'IK1_IKur_6.csv',\n",
              " 'IK1_IKur_5.csv',\n",
              " 'IK1_IKur_4.csv',\n",
              " 'IK1_IKur_3.csv',\n",
              " 'IK1_IKur_1.csv',\n",
              " 'IK1_IKur_2.csv',\n",
              " 'IK1_IKur_0.csv',\n",
              " 'IK1_INa_10.csv',\n",
              " 'IK1_INa_9.csv',\n",
              " 'IK1_INa_8.csv',\n",
              " 'IK1_INa_7.csv',\n",
              " 'IK1_INa_6.csv',\n",
              " 'IK1_INa_5.csv',\n",
              " 'IK1_INa_2.csv',\n",
              " 'IK1_INa_1.csv',\n",
              " 'IK1_INa_0.csv',\n",
              " 'IK1_INa_4.csv',\n",
              " 'IK1_INa_3.csv',\n",
              " 'IKr_IKur_9.csv',\n",
              " 'IKr_IKur_10.csv',\n",
              " 'IKr_IKur_1.csv',\n",
              " 'IKr_IKur_2.csv',\n",
              " 'IKr_IKur_5.csv',\n",
              " 'IKr_IKur_4.csv',\n",
              " 'IKr_IKur_0.csv',\n",
              " 'IKr_IKur_3.csv',\n",
              " 'IKr_IKur_7.csv',\n",
              " 'IKr_IKur_6.csv',\n",
              " 'IKr_IKur_8.csv',\n",
              " 'INa_IKr_10.csv',\n",
              " 'INa_IKr_9.csv',\n",
              " 'INa_IKr_8.csv',\n",
              " 'INa_IKr_7.csv',\n",
              " 'INa_IKr_5.csv',\n",
              " 'INa_IKr_4.csv',\n",
              " 'INa_IKr_2.csv',\n",
              " 'INa_IKr_3.csv',\n",
              " 'INa_IKr_0.csv',\n",
              " 'INa_IKr_1.csv',\n",
              " 'INa_IKr_6.csv',\n",
              " 'INa_IKur_9.csv',\n",
              " 'INa_IKur_10.csv',\n",
              " 'INa_IKur_8.csv',\n",
              " 'INa_IKur_7.csv',\n",
              " 'INa_IKur_6.csv',\n",
              " 'INa_IKur_5.csv',\n",
              " 'INa_IKur_4.csv',\n",
              " 'INa_IKur_3.csv',\n",
              " 'INa_IKur_2.csv',\n",
              " 'INa_IKur_1.csv',\n",
              " 'INa_IKur_0.csv',\n",
              " 'ALL_9.csv',\n",
              " 'ALL_10.csv',\n",
              " 'ALL_7.csv',\n",
              " 'ALL_8.csv',\n",
              " 'ALL_6.csv',\n",
              " 'ALL_5.csv',\n",
              " 'ALL_3.csv',\n",
              " 'ALL_4.csv',\n",
              " 'ALL_1.csv',\n",
              " 'ALL_2.csv',\n",
              " 'ALL_0.csv',\n",
              " 'ICaL_IK1_IKr_IKur_10.csv',\n",
              " 'ICaL_IK1_IKr_IKur_9.csv',\n",
              " 'ICaL_IK1_IKr_IKur_7.csv',\n",
              " 'ICaL_IK1_IKr_IKur_8.csv',\n",
              " 'ICaL_IK1_IKr_IKur_6.csv',\n",
              " 'ICaL_IK1_IKr_IKur_5.csv',\n",
              " 'ICaL_IK1_IKr_IKur_4.csv',\n",
              " 'ICaL_IK1_IKr_IKur_3.csv',\n",
              " 'ICaL_IK1_IKr_IKur_2.csv',\n",
              " 'ICaL_IK1_IKr_IKur_1.csv',\n",
              " 'ICaL_IK1_IKr_IKur_0.csv',\n",
              " 'ICaL_IK1_INa_IKr_9.csv',\n",
              " 'ICaL_IK1_INa_IKr_10.csv',\n",
              " 'ICaL_IK1_INa_IKr_8.csv',\n",
              " 'ICaL_IK1_INa_IKr_7.csv',\n",
              " 'ICaL_IK1_INa_IKr_6.csv',\n",
              " 'ICaL_IK1_INa_IKr_5.csv',\n",
              " 'ICaL_IK1_INa_IKr_3.csv',\n",
              " 'ICaL_IK1_INa_IKr_4.csv',\n",
              " 'ICaL_IK1_INa_IKr_2.csv',\n",
              " 'ICaL_IK1_INa_IKr_1.csv',\n",
              " 'ICaL_IK1_INa_IKr_0.csv',\n",
              " 'ICaL_IK1_INa_IKur_0.csv',\n",
              " 'ICaL_IK1_INa_IKur_1.csv',\n",
              " 'ICaL_IK1_INa_IKur_10.csv',\n",
              " 'ICaL_IK1_INa_IKur_9.csv',\n",
              " 'ICaL_IK1_INa_IKur_8.csv',\n",
              " 'ICaL_IK1_INa_IKur_7.csv',\n",
              " 'ICaL_IK1_INa_IKur_5.csv',\n",
              " 'ICaL_IK1_INa_IKur_6.csv',\n",
              " 'ICaL_IK1_INa_IKur_4.csv',\n",
              " 'ICaL_IK1_INa_IKur_3.csv',\n",
              " 'ICaL_IK1_INa_IKur_2.csv',\n",
              " 'ICaL_INa_IKr_IKur_9.csv',\n",
              " 'ICaL_INa_IKr_IKur_10.csv',\n",
              " 'ICaL_INa_IKr_IKur_7.csv',\n",
              " 'ICaL_INa_IKr_IKur_8.csv',\n",
              " 'ICaL_INa_IKr_IKur_6.csv',\n",
              " 'ICaL_INa_IKr_IKur_5.csv',\n",
              " 'ICaL_INa_IKr_IKur_4.csv',\n",
              " 'ICaL_INa_IKr_IKur_3.csv',\n",
              " 'ICaL_INa_IKr_IKur_2.csv',\n",
              " 'ICaL_INa_IKr_IKur_0.csv',\n",
              " 'IK1_INa_IKr_IKur_9.csv',\n",
              " 'IK1_INa_IKr_IKur_10.csv',\n",
              " 'IK1_INa_IKr_IKur_8.csv',\n",
              " 'IK1_INa_IKr_IKur_7.csv',\n",
              " 'IK1_INa_IKr_IKur_6.csv',\n",
              " 'IK1_INa_IKr_IKur_5.csv',\n",
              " 'IK1_INa_IKr_IKur_4.csv',\n",
              " 'IK1_INa_IKr_IKur_3.csv',\n",
              " 'IK1_INa_IKr_IKur_2.csv',\n",
              " 'IK1_INa_IKr_IKur_1.csv',\n",
              " 'IK1_INa_IKr_IKur_0.csv',\n",
              " 'ICaL_IK1_IKr_10.csv',\n",
              " 'ICaL_IK1_IKr_9.csv',\n",
              " 'ICaL_IK1_IKr_3.csv',\n",
              " 'ICaL_IK1_IKr_4.csv',\n",
              " 'ICaL_IK1_IKr_5.csv',\n",
              " 'ICaL_IK1_IKr_6.csv',\n",
              " 'ICaL_IK1_IKr_8.csv',\n",
              " 'ICaL_IK1_IKr_7.csv',\n",
              " 'ICaL_IK1_IKr_1.csv',\n",
              " 'ICaL_IK1_IKr_2.csv',\n",
              " 'ICaL_IK1_IKr_0.csv',\n",
              " 'ICaL_IK1_IKur_10.csv',\n",
              " 'ICaL_IK1_IKur_9.csv',\n",
              " 'ICaL_IK1_IKur_3.csv',\n",
              " 'ICaL_IK1_IKur_4.csv',\n",
              " 'ICaL_IK1_IKur_5.csv',\n",
              " 'ICaL_IK1_IKur_6.csv',\n",
              " 'ICaL_IK1_IKur_7.csv',\n",
              " 'ICaL_IK1_IKur_8.csv',\n",
              " 'ICaL_IK1_IKur_1.csv',\n",
              " 'ICaL_IK1_IKur_2.csv',\n",
              " 'ICaL_IK1_IKur_0.csv',\n",
              " 'ICaL_IK1_INa_10.csv',\n",
              " 'ICaL_IK1_INa_9.csv',\n",
              " 'ICaL_IK1_INa_8.csv',\n",
              " 'ICaL_IK1_INa_7.csv',\n",
              " 'ICaL_IK1_INa_6.csv',\n",
              " 'ICaL_IK1_INa_5.csv',\n",
              " 'ICaL_IK1_INa_4.csv',\n",
              " 'ICaL_IK1_INa_3.csv',\n",
              " 'ICaL_IK1_INa_2.csv',\n",
              " 'ICaL_IK1_INa_1.csv',\n",
              " 'ICaL_IK1_INa_0.csv',\n",
              " 'ICaL_IKr_IKur_10.csv',\n",
              " 'ICaL_IKr_IKur_9.csv',\n",
              " 'ICaL_IKr_IKur_8.csv',\n",
              " 'ICaL_IKr_IKur_7.csv',\n",
              " 'ICaL_IKr_IKur_6.csv',\n",
              " 'ICaL_IKr_IKur_5.csv',\n",
              " 'ICaL_IKr_IKur_4.csv',\n",
              " 'ICaL_IKr_IKur_3.csv',\n",
              " 'ICaL_IKr_IKur_2.csv',\n",
              " 'ICaL_IKr_IKur_1.csv',\n",
              " 'ICaL_IKr_IKur_0.csv',\n",
              " 'ICaL_INa_IKr_10.csv',\n",
              " 'ICaL_INa_IKr_9.csv',\n",
              " 'ICaL_INa_IKr_8.csv',\n",
              " 'ICaL_INa_IKr_7.csv',\n",
              " 'ICaL_INa_IKr_6.csv',\n",
              " 'ICaL_INa_IKr_5.csv',\n",
              " 'ICaL_INa_IKr_4.csv',\n",
              " 'ICaL_INa_IKr_3.csv',\n",
              " 'ICaL_INa_IKr_2.csv',\n",
              " 'ICaL_INa_IKr_1.csv',\n",
              " 'ICaL_INa_IKr_0.csv',\n",
              " 'ICaL_INa_IKur_10.csv',\n",
              " 'ICaL_INa_IKur_9.csv',\n",
              " 'ICaL_INa_IKur_8.csv',\n",
              " 'ICaL_INa_IKur_7.csv',\n",
              " 'ICaL_INa_IKur_6.csv',\n",
              " 'ICaL_INa_IKur_5.csv',\n",
              " 'ICaL_INa_IKur_4.csv',\n",
              " 'ICaL_INa_IKur_3.csv',\n",
              " 'ICaL_INa_IKur_2.csv',\n",
              " 'ICaL_INa_IKur_1.csv',\n",
              " 'ICaL_INa_IKur_0.csv',\n",
              " 'IK1_INa_IKr_6.csv',\n",
              " 'IK1_INa_IKr_5.csv',\n",
              " 'IK1_INa_IKr_4.csv',\n",
              " 'IK1_INa_IKr_3.csv',\n",
              " 'IK1_INa_IKr_1.csv',\n",
              " 'IK1_INa_IKr_2.csv',\n",
              " 'IK1_INa_IKr_0.csv',\n",
              " 'IK1_INa_IKr_7.csv',\n",
              " 'IK1_INa_IKr_8.csv',\n",
              " 'IK1_INa_IKr_10.csv',\n",
              " 'IK1_INa_IKr_9.csv',\n",
              " 'IK1_INa_IKur_10.csv',\n",
              " 'IK1_INa_IKur_9.csv',\n",
              " 'IK1_INa_IKur_8.csv',\n",
              " 'IK1_INa_IKur_7.csv',\n",
              " 'IK1_INa_IKur_6.csv',\n",
              " 'IK1_INa_IKur_5.csv',\n",
              " 'IK1_INa_IKur_3.csv',\n",
              " 'IK1_INa_IKur_4.csv',\n",
              " 'IK1_INa_IKur_1.csv',\n",
              " 'IK1_INa_IKur_2.csv',\n",
              " 'IK1_INa_IKur_0.csv',\n",
              " 'IK1_IKr_IKur_10.csv',\n",
              " 'IK1_IKr_IKur_9.csv',\n",
              " 'IK1_IKr_IKur_8.csv',\n",
              " 'IK1_IKr_IKur_7.csv',\n",
              " 'IK1_IKr_IKur_6.csv',\n",
              " 'IK1_IKr_IKur_5.csv',\n",
              " 'IK1_IKr_IKur_4.csv',\n",
              " 'IK1_IKr_IKur_3.csv',\n",
              " 'IK1_IKr_IKur_2.csv',\n",
              " 'IK1_IKr_IKur_1.csv',\n",
              " 'IK1_IKr_IKur_0.csv',\n",
              " 'INa_IKr_IKur_10.csv',\n",
              " 'INa_IKr_IKur_9.csv',\n",
              " 'INa_IKr_IKur_8.csv',\n",
              " 'INa_IKr_IKur_7.csv',\n",
              " 'INa_IKr_IKur_5.csv',\n",
              " 'INa_IKr_IKur_6.csv',\n",
              " 'INa_IKr_IKur_4.csv',\n",
              " 'INa_IKr_IKur_3.csv',\n",
              " 'INa_IKr_IKur_2.csv',\n",
              " 'INa_IKr_IKur_1.csv',\n",
              " 'INa_IKr_IKur_0.csv',\n",
              " 'ICaL_INa_IKr_IKur_1.csv',\n",
              " 'ICaL_1.csv',\n",
              " 'ICaL_2.csv']"
            ]
          },
          "metadata": {},
          "execution_count": 29
        }
      ]
    },
    {
      "cell_type": "code",
      "metadata": {
        "id": "70nKHfuqUeus"
      },
      "source": [
        "for fle  in all_files:\n",
        "  df = pd.read_csv(path + fle, sep = ',')\n",
        "  df = df.rename(columns = {'Column1':'Time', 'Column2':'Vm','ICaL':'ICaL','IK1':'IK1','Ikr':'Ikr','IKur':'IKur','INa':'INa'})\n",
        "  df['Time'] = df['Time']-45000\n",
        "  df = df.dropna()\n",
        "  y_ds = df[['Vm']].to_numpy()\n",
        "  x_ds = df[['ICaL','IK1','IKr','IKur','INa']].to_numpy()\n",
        "  X_ds = np.append(x_ds,X_ds,axis = 0)\n",
        "  Y_ds = np.append(y_ds,Y_ds,axis = 0)\n",
        "  \n",
        "  \n",
        "  "
      ],
      "execution_count": null,
      "outputs": []
    },
    {
      "cell_type": "code",
      "metadata": {
        "id": "1tglI0iiMLqp",
        "colab": {
          "base_uri": "https://localhost:8080/"
        },
        "outputId": "1e3b0562-0c56-4b98-cd95-18231a660160"
      },
      "source": [
        "print(X_ds.shape)\n",
        "print(Y_ds.shape)"
      ],
      "execution_count": null,
      "outputs": [
        {
          "output_type": "stream",
          "name": "stdout",
          "text": [
            "(34200000, 5)\n",
            "(34200000, 1)\n"
          ]
        }
      ]
    },
    {
      "cell_type": "code",
      "metadata": {
        "id": "9ZzFiHJLWHV5",
        "colab": {
          "base_uri": "https://localhost:8080/"
        },
        "outputId": "ddbaffe4-e24d-4ff1-ff3d-ff6703b7ec01"
      },
      "source": [
        "X_ds = X_ds.reshape((342,100000,5))\n",
        "Y_ds = Y_ds.reshape((342,100000,1))\n",
        "print(X_ds.shape)\n",
        "print(Y_ds.shape)"
      ],
      "execution_count": null,
      "outputs": [
        {
          "output_type": "stream",
          "name": "stdout",
          "text": [
            "(342, 100000, 5)\n",
            "(342, 100000, 1)\n"
          ]
        }
      ]
    },
    {
      "cell_type": "code",
      "metadata": {
        "id": "IT9OhXMjPXdX",
        "colab": {
          "base_uri": "https://localhost:8080/",
          "height": 422
        },
        "outputId": "c2c18cd7-07f2-47ab-bd97-3446d28d09c2"
      },
      "source": [
        "pd.DataFrame(X_ds[341])"
      ],
      "execution_count": null,
      "outputs": [
        {
          "output_type": "execute_result",
          "data": {
            "text/html": [
              "<div>\n",
              "<style scoped>\n",
              "    .dataframe tbody tr th:only-of-type {\n",
              "        vertical-align: middle;\n",
              "    }\n",
              "\n",
              "    .dataframe tbody tr th {\n",
              "        vertical-align: top;\n",
              "    }\n",
              "\n",
              "    .dataframe thead th {\n",
              "        text-align: right;\n",
              "    }\n",
              "</style>\n",
              "<table border=\"1\" class=\"dataframe\">\n",
              "  <thead>\n",
              "    <tr style=\"text-align: right;\">\n",
              "      <th></th>\n",
              "      <th>0</th>\n",
              "      <th>1</th>\n",
              "      <th>2</th>\n",
              "      <th>3</th>\n",
              "      <th>4</th>\n",
              "    </tr>\n",
              "  </thead>\n",
              "  <tbody>\n",
              "    <tr>\n",
              "      <th>0</th>\n",
              "      <td>0.0</td>\n",
              "      <td>0.0</td>\n",
              "      <td>0.0</td>\n",
              "      <td>0.0</td>\n",
              "      <td>0.0</td>\n",
              "    </tr>\n",
              "    <tr>\n",
              "      <th>1</th>\n",
              "      <td>0.0</td>\n",
              "      <td>0.0</td>\n",
              "      <td>0.0</td>\n",
              "      <td>0.0</td>\n",
              "      <td>0.0</td>\n",
              "    </tr>\n",
              "    <tr>\n",
              "      <th>2</th>\n",
              "      <td>0.0</td>\n",
              "      <td>0.0</td>\n",
              "      <td>0.0</td>\n",
              "      <td>0.0</td>\n",
              "      <td>0.0</td>\n",
              "    </tr>\n",
              "    <tr>\n",
              "      <th>3</th>\n",
              "      <td>0.0</td>\n",
              "      <td>0.0</td>\n",
              "      <td>0.0</td>\n",
              "      <td>0.0</td>\n",
              "      <td>0.0</td>\n",
              "    </tr>\n",
              "    <tr>\n",
              "      <th>4</th>\n",
              "      <td>0.0</td>\n",
              "      <td>0.0</td>\n",
              "      <td>0.0</td>\n",
              "      <td>0.0</td>\n",
              "      <td>0.0</td>\n",
              "    </tr>\n",
              "    <tr>\n",
              "      <th>...</th>\n",
              "      <td>...</td>\n",
              "      <td>...</td>\n",
              "      <td>...</td>\n",
              "      <td>...</td>\n",
              "      <td>...</td>\n",
              "    </tr>\n",
              "    <tr>\n",
              "      <th>99995</th>\n",
              "      <td>0.0</td>\n",
              "      <td>0.0</td>\n",
              "      <td>0.0</td>\n",
              "      <td>0.0</td>\n",
              "      <td>0.0</td>\n",
              "    </tr>\n",
              "    <tr>\n",
              "      <th>99996</th>\n",
              "      <td>0.0</td>\n",
              "      <td>0.0</td>\n",
              "      <td>0.0</td>\n",
              "      <td>0.0</td>\n",
              "      <td>0.0</td>\n",
              "    </tr>\n",
              "    <tr>\n",
              "      <th>99997</th>\n",
              "      <td>0.0</td>\n",
              "      <td>0.0</td>\n",
              "      <td>0.0</td>\n",
              "      <td>0.0</td>\n",
              "      <td>0.0</td>\n",
              "    </tr>\n",
              "    <tr>\n",
              "      <th>99998</th>\n",
              "      <td>0.0</td>\n",
              "      <td>0.0</td>\n",
              "      <td>0.0</td>\n",
              "      <td>0.0</td>\n",
              "      <td>0.0</td>\n",
              "    </tr>\n",
              "    <tr>\n",
              "      <th>99999</th>\n",
              "      <td>0.0</td>\n",
              "      <td>0.0</td>\n",
              "      <td>0.0</td>\n",
              "      <td>0.0</td>\n",
              "      <td>0.0</td>\n",
              "    </tr>\n",
              "  </tbody>\n",
              "</table>\n",
              "<p>100000 rows × 5 columns</p>\n",
              "</div>"
            ],
            "text/plain": [
              "         0    1    2    3    4\n",
              "0      0.0  0.0  0.0  0.0  0.0\n",
              "1      0.0  0.0  0.0  0.0  0.0\n",
              "2      0.0  0.0  0.0  0.0  0.0\n",
              "3      0.0  0.0  0.0  0.0  0.0\n",
              "4      0.0  0.0  0.0  0.0  0.0\n",
              "...    ...  ...  ...  ...  ...\n",
              "99995  0.0  0.0  0.0  0.0  0.0\n",
              "99996  0.0  0.0  0.0  0.0  0.0\n",
              "99997  0.0  0.0  0.0  0.0  0.0\n",
              "99998  0.0  0.0  0.0  0.0  0.0\n",
              "99999  0.0  0.0  0.0  0.0  0.0\n",
              "\n",
              "[100000 rows x 5 columns]"
            ]
          },
          "metadata": {},
          "execution_count": 33
        }
      ]
    },
    {
      "cell_type": "code",
      "metadata": {
        "id": "vJ0wgyeLYHXn",
        "colab": {
          "base_uri": "https://localhost:8080/"
        },
        "outputId": "59d5c8b2-fb17-4aa4-ebc5-7a7912038ec1"
      },
      "source": [
        "X_ds = X_ds[:-1]\n",
        "Y_ds = Y_ds[:-1]\n",
        "print(X_ds.shape)\n",
        "print(Y_ds.shape)"
      ],
      "execution_count": null,
      "outputs": [
        {
          "output_type": "stream",
          "name": "stdout",
          "text": [
            "(341, 100000, 5)\n",
            "(341, 100000, 1)\n"
          ]
        }
      ]
    },
    {
      "cell_type": "code",
      "metadata": {
        "id": "pZiaIjriMtmA",
        "colab": {
          "base_uri": "https://localhost:8080/",
          "height": 422
        },
        "outputId": "af5d451c-7e70-48e0-9ce2-151e2f6cf55b"
      },
      "source": [
        "pd.DataFrame(X_ds[338])"
      ],
      "execution_count": null,
      "outputs": [
        {
          "output_type": "execute_result",
          "data": {
            "text/html": [
              "<div>\n",
              "<style scoped>\n",
              "    .dataframe tbody tr th:only-of-type {\n",
              "        vertical-align: middle;\n",
              "    }\n",
              "\n",
              "    .dataframe tbody tr th {\n",
              "        vertical-align: top;\n",
              "    }\n",
              "\n",
              "    .dataframe thead th {\n",
              "        text-align: right;\n",
              "    }\n",
              "</style>\n",
              "<table border=\"1\" class=\"dataframe\">\n",
              "  <thead>\n",
              "    <tr style=\"text-align: right;\">\n",
              "      <th></th>\n",
              "      <th>0</th>\n",
              "      <th>1</th>\n",
              "      <th>2</th>\n",
              "      <th>3</th>\n",
              "      <th>4</th>\n",
              "    </tr>\n",
              "  </thead>\n",
              "  <tbody>\n",
              "    <tr>\n",
              "      <th>0</th>\n",
              "      <td>0.6</td>\n",
              "      <td>1.0</td>\n",
              "      <td>1.0</td>\n",
              "      <td>1.0</td>\n",
              "      <td>1.0</td>\n",
              "    </tr>\n",
              "    <tr>\n",
              "      <th>1</th>\n",
              "      <td>0.6</td>\n",
              "      <td>1.0</td>\n",
              "      <td>1.0</td>\n",
              "      <td>1.0</td>\n",
              "      <td>1.0</td>\n",
              "    </tr>\n",
              "    <tr>\n",
              "      <th>2</th>\n",
              "      <td>0.6</td>\n",
              "      <td>1.0</td>\n",
              "      <td>1.0</td>\n",
              "      <td>1.0</td>\n",
              "      <td>1.0</td>\n",
              "    </tr>\n",
              "    <tr>\n",
              "      <th>3</th>\n",
              "      <td>0.6</td>\n",
              "      <td>1.0</td>\n",
              "      <td>1.0</td>\n",
              "      <td>1.0</td>\n",
              "      <td>1.0</td>\n",
              "    </tr>\n",
              "    <tr>\n",
              "      <th>4</th>\n",
              "      <td>0.6</td>\n",
              "      <td>1.0</td>\n",
              "      <td>1.0</td>\n",
              "      <td>1.0</td>\n",
              "      <td>1.0</td>\n",
              "    </tr>\n",
              "    <tr>\n",
              "      <th>...</th>\n",
              "      <td>...</td>\n",
              "      <td>...</td>\n",
              "      <td>...</td>\n",
              "      <td>...</td>\n",
              "      <td>...</td>\n",
              "    </tr>\n",
              "    <tr>\n",
              "      <th>99995</th>\n",
              "      <td>0.6</td>\n",
              "      <td>1.0</td>\n",
              "      <td>1.0</td>\n",
              "      <td>1.0</td>\n",
              "      <td>1.0</td>\n",
              "    </tr>\n",
              "    <tr>\n",
              "      <th>99996</th>\n",
              "      <td>0.6</td>\n",
              "      <td>1.0</td>\n",
              "      <td>1.0</td>\n",
              "      <td>1.0</td>\n",
              "      <td>1.0</td>\n",
              "    </tr>\n",
              "    <tr>\n",
              "      <th>99997</th>\n",
              "      <td>0.6</td>\n",
              "      <td>1.0</td>\n",
              "      <td>1.0</td>\n",
              "      <td>1.0</td>\n",
              "      <td>1.0</td>\n",
              "    </tr>\n",
              "    <tr>\n",
              "      <th>99998</th>\n",
              "      <td>0.6</td>\n",
              "      <td>1.0</td>\n",
              "      <td>1.0</td>\n",
              "      <td>1.0</td>\n",
              "      <td>1.0</td>\n",
              "    </tr>\n",
              "    <tr>\n",
              "      <th>99999</th>\n",
              "      <td>0.6</td>\n",
              "      <td>1.0</td>\n",
              "      <td>1.0</td>\n",
              "      <td>1.0</td>\n",
              "      <td>1.0</td>\n",
              "    </tr>\n",
              "  </tbody>\n",
              "</table>\n",
              "<p>100000 rows × 5 columns</p>\n",
              "</div>"
            ],
            "text/plain": [
              "         0    1    2    3    4\n",
              "0      0.6  1.0  1.0  1.0  1.0\n",
              "1      0.6  1.0  1.0  1.0  1.0\n",
              "2      0.6  1.0  1.0  1.0  1.0\n",
              "3      0.6  1.0  1.0  1.0  1.0\n",
              "4      0.6  1.0  1.0  1.0  1.0\n",
              "...    ...  ...  ...  ...  ...\n",
              "99995  0.6  1.0  1.0  1.0  1.0\n",
              "99996  0.6  1.0  1.0  1.0  1.0\n",
              "99997  0.6  1.0  1.0  1.0  1.0\n",
              "99998  0.6  1.0  1.0  1.0  1.0\n",
              "99999  0.6  1.0  1.0  1.0  1.0\n",
              "\n",
              "[100000 rows x 5 columns]"
            ]
          },
          "metadata": {},
          "execution_count": 35
        }
      ]
    },
    {
      "cell_type": "code",
      "metadata": {
        "id": "HR6D891dfoFx"
      },
      "source": [
        " X_train, X_test, y_train, y_test = train_test_split(X_ds, Y_ds, test_size=0.2)"
      ],
      "execution_count": null,
      "outputs": []
    },
    {
      "cell_type": "code",
      "metadata": {
        "id": "ACmUi8-Pgj0n"
      },
      "source": [
        "in_neurons = 5\n",
        "out_neurons = 1\n",
        "hidden_neurons = 200"
      ],
      "execution_count": null,
      "outputs": []
    },
    {
      "cell_type": "code",
      "metadata": {
        "id": "u72Rpu8_gteR"
      },
      "source": [
        "model = Sequential()  \n",
        "\n",
        "model.add(LSTM(hidden_neurons, input_dim=in_neurons, return_sequences=True)) \n",
        "\n",
        "model.add(Dense(100, input_dim=hidden_neurons))\n",
        "model.add(Dense(out_neurons, input_dim=100))\n",
        "\n",
        "model.add(Activation(\"linear\"))  \n",
        "\n",
        "model.compile(loss='mean_squared_error', optimizer=\"rmsprop\")"
      ],
      "execution_count": null,
      "outputs": []
    },
    {
      "cell_type": "code",
      "metadata": {
        "id": "tDiClxq_iuSj",
        "colab": {
          "base_uri": "https://localhost:8080/"
        },
        "outputId": "d44d8ed6-511e-4a3b-9ce0-40e8d6c59705"
      },
      "source": [
        "print(model.summary())   "
      ],
      "execution_count": null,
      "outputs": [
        {
          "output_type": "stream",
          "name": "stdout",
          "text": [
            "Model: \"sequential_4\"\n",
            "_________________________________________________________________\n",
            "Layer (type)                 Output Shape              Param #   \n",
            "=================================================================\n",
            "lstm_4 (LSTM)                (None, None, 200)         164800    \n",
            "_________________________________________________________________\n",
            "dense_8 (Dense)              (None, None, 100)         20100     \n",
            "_________________________________________________________________\n",
            "dense_9 (Dense)              (None, None, 1)           101       \n",
            "_________________________________________________________________\n",
            "activation_4 (Activation)    (None, None, 1)           0         \n",
            "=================================================================\n",
            "Total params: 185,001\n",
            "Trainable params: 185,001\n",
            "Non-trainable params: 0\n",
            "_________________________________________________________________\n",
            "None\n"
          ]
        }
      ]
    },
    {
      "cell_type": "code",
      "metadata": {
        "id": "UTJvuwVMgv0I",
        "colab": {
          "base_uri": "https://localhost:8080/",
          "height": 540
        },
        "outputId": "af69b717-1c65-44a3-e23b-5d1e40a4071e"
      },
      "source": [
        "model.fit(X_train, y_train, batch_size=16, epochs=20, validation_split=0.10)  "
      ],
      "execution_count": null,
      "outputs": [
        {
          "output_type": "stream",
          "name": "stdout",
          "text": [
            "Epoch 1/20\n"
          ]
        },
        {
          "output_type": "error",
          "ename": "ResourceExhaustedError",
          "evalue": "ignored",
          "traceback": [
            "\u001b[0;31m---------------------------------------------------------------------------\u001b[0m",
            "\u001b[0;31mResourceExhaustedError\u001b[0m                    Traceback (most recent call last)",
            "\u001b[0;32m<ipython-input-50-be465b7c4c65>\u001b[0m in \u001b[0;36m<module>\u001b[0;34m()\u001b[0m\n\u001b[0;32m----> 1\u001b[0;31m \u001b[0mmodel\u001b[0m\u001b[0;34m.\u001b[0m\u001b[0mfit\u001b[0m\u001b[0;34m(\u001b[0m\u001b[0mX_train\u001b[0m\u001b[0;34m,\u001b[0m \u001b[0my_train\u001b[0m\u001b[0;34m,\u001b[0m \u001b[0mbatch_size\u001b[0m\u001b[0;34m=\u001b[0m\u001b[0;36m16\u001b[0m\u001b[0;34m,\u001b[0m \u001b[0mepochs\u001b[0m\u001b[0;34m=\u001b[0m\u001b[0;36m20\u001b[0m\u001b[0;34m,\u001b[0m \u001b[0mvalidation_split\u001b[0m\u001b[0;34m=\u001b[0m\u001b[0;36m0.10\u001b[0m\u001b[0;34m)\u001b[0m\u001b[0;34m\u001b[0m\u001b[0;34m\u001b[0m\u001b[0m\n\u001b[0m",
            "\u001b[0;32m/usr/local/lib/python3.7/dist-packages/keras/engine/training.py\u001b[0m in \u001b[0;36mfit\u001b[0;34m(self, x, y, batch_size, epochs, verbose, callbacks, validation_split, validation_data, shuffle, class_weight, sample_weight, initial_epoch, steps_per_epoch, validation_steps, validation_batch_size, validation_freq, max_queue_size, workers, use_multiprocessing)\u001b[0m\n\u001b[1;32m   1182\u001b[0m                 _r=1):\n\u001b[1;32m   1183\u001b[0m               \u001b[0mcallbacks\u001b[0m\u001b[0;34m.\u001b[0m\u001b[0mon_train_batch_begin\u001b[0m\u001b[0;34m(\u001b[0m\u001b[0mstep\u001b[0m\u001b[0;34m)\u001b[0m\u001b[0;34m\u001b[0m\u001b[0;34m\u001b[0m\u001b[0m\n\u001b[0;32m-> 1184\u001b[0;31m               \u001b[0mtmp_logs\u001b[0m \u001b[0;34m=\u001b[0m \u001b[0mself\u001b[0m\u001b[0;34m.\u001b[0m\u001b[0mtrain_function\u001b[0m\u001b[0;34m(\u001b[0m\u001b[0miterator\u001b[0m\u001b[0;34m)\u001b[0m\u001b[0;34m\u001b[0m\u001b[0;34m\u001b[0m\u001b[0m\n\u001b[0m\u001b[1;32m   1185\u001b[0m               \u001b[0;32mif\u001b[0m \u001b[0mdata_handler\u001b[0m\u001b[0;34m.\u001b[0m\u001b[0mshould_sync\u001b[0m\u001b[0;34m:\u001b[0m\u001b[0;34m\u001b[0m\u001b[0;34m\u001b[0m\u001b[0m\n\u001b[1;32m   1186\u001b[0m                 \u001b[0mcontext\u001b[0m\u001b[0;34m.\u001b[0m\u001b[0masync_wait\u001b[0m\u001b[0;34m(\u001b[0m\u001b[0;34m)\u001b[0m\u001b[0;34m\u001b[0m\u001b[0;34m\u001b[0m\u001b[0m\n",
            "\u001b[0;32m/usr/local/lib/python3.7/dist-packages/tensorflow/python/eager/def_function.py\u001b[0m in \u001b[0;36m__call__\u001b[0;34m(self, *args, **kwds)\u001b[0m\n\u001b[1;32m    883\u001b[0m \u001b[0;34m\u001b[0m\u001b[0m\n\u001b[1;32m    884\u001b[0m       \u001b[0;32mwith\u001b[0m \u001b[0mOptionalXlaContext\u001b[0m\u001b[0;34m(\u001b[0m\u001b[0mself\u001b[0m\u001b[0;34m.\u001b[0m\u001b[0m_jit_compile\u001b[0m\u001b[0;34m)\u001b[0m\u001b[0;34m:\u001b[0m\u001b[0;34m\u001b[0m\u001b[0;34m\u001b[0m\u001b[0m\n\u001b[0;32m--> 885\u001b[0;31m         \u001b[0mresult\u001b[0m \u001b[0;34m=\u001b[0m \u001b[0mself\u001b[0m\u001b[0;34m.\u001b[0m\u001b[0m_call\u001b[0m\u001b[0;34m(\u001b[0m\u001b[0;34m*\u001b[0m\u001b[0margs\u001b[0m\u001b[0;34m,\u001b[0m \u001b[0;34m**\u001b[0m\u001b[0mkwds\u001b[0m\u001b[0;34m)\u001b[0m\u001b[0;34m\u001b[0m\u001b[0;34m\u001b[0m\u001b[0m\n\u001b[0m\u001b[1;32m    886\u001b[0m \u001b[0;34m\u001b[0m\u001b[0m\n\u001b[1;32m    887\u001b[0m       \u001b[0mnew_tracing_count\u001b[0m \u001b[0;34m=\u001b[0m \u001b[0mself\u001b[0m\u001b[0;34m.\u001b[0m\u001b[0mexperimental_get_tracing_count\u001b[0m\u001b[0;34m(\u001b[0m\u001b[0;34m)\u001b[0m\u001b[0;34m\u001b[0m\u001b[0;34m\u001b[0m\u001b[0m\n",
            "\u001b[0;32m/usr/local/lib/python3.7/dist-packages/tensorflow/python/eager/def_function.py\u001b[0m in \u001b[0;36m_call\u001b[0;34m(self, *args, **kwds)\u001b[0m\n\u001b[1;32m    948\u001b[0m         \u001b[0;31m# Lifting succeeded, so variables are initialized and we can run the\u001b[0m\u001b[0;34m\u001b[0m\u001b[0;34m\u001b[0m\u001b[0;34m\u001b[0m\u001b[0m\n\u001b[1;32m    949\u001b[0m         \u001b[0;31m# stateless function.\u001b[0m\u001b[0;34m\u001b[0m\u001b[0;34m\u001b[0m\u001b[0;34m\u001b[0m\u001b[0m\n\u001b[0;32m--> 950\u001b[0;31m         \u001b[0;32mreturn\u001b[0m \u001b[0mself\u001b[0m\u001b[0;34m.\u001b[0m\u001b[0m_stateless_fn\u001b[0m\u001b[0;34m(\u001b[0m\u001b[0;34m*\u001b[0m\u001b[0margs\u001b[0m\u001b[0;34m,\u001b[0m \u001b[0;34m**\u001b[0m\u001b[0mkwds\u001b[0m\u001b[0;34m)\u001b[0m\u001b[0;34m\u001b[0m\u001b[0;34m\u001b[0m\u001b[0m\n\u001b[0m\u001b[1;32m    951\u001b[0m     \u001b[0;32melse\u001b[0m\u001b[0;34m:\u001b[0m\u001b[0;34m\u001b[0m\u001b[0;34m\u001b[0m\u001b[0m\n\u001b[1;32m    952\u001b[0m       \u001b[0m_\u001b[0m\u001b[0;34m,\u001b[0m \u001b[0m_\u001b[0m\u001b[0;34m,\u001b[0m \u001b[0m_\u001b[0m\u001b[0;34m,\u001b[0m \u001b[0mfiltered_flat_args\u001b[0m \u001b[0;34m=\u001b[0m\u001b[0;31m \u001b[0m\u001b[0;31m\\\u001b[0m\u001b[0;34m\u001b[0m\u001b[0;34m\u001b[0m\u001b[0m\n",
            "\u001b[0;32m/usr/local/lib/python3.7/dist-packages/tensorflow/python/eager/function.py\u001b[0m in \u001b[0;36m__call__\u001b[0;34m(self, *args, **kwargs)\u001b[0m\n\u001b[1;32m   3038\u001b[0m        filtered_flat_args) = self._maybe_define_function(args, kwargs)\n\u001b[1;32m   3039\u001b[0m     return graph_function._call_flat(\n\u001b[0;32m-> 3040\u001b[0;31m         filtered_flat_args, captured_inputs=graph_function.captured_inputs)  # pylint: disable=protected-access\n\u001b[0m\u001b[1;32m   3041\u001b[0m \u001b[0;34m\u001b[0m\u001b[0m\n\u001b[1;32m   3042\u001b[0m   \u001b[0;34m@\u001b[0m\u001b[0mproperty\u001b[0m\u001b[0;34m\u001b[0m\u001b[0;34m\u001b[0m\u001b[0m\n",
            "\u001b[0;32m/usr/local/lib/python3.7/dist-packages/tensorflow/python/eager/function.py\u001b[0m in \u001b[0;36m_call_flat\u001b[0;34m(self, args, captured_inputs, cancellation_manager)\u001b[0m\n\u001b[1;32m   1962\u001b[0m       \u001b[0;31m# No tape is watching; skip to running the function.\u001b[0m\u001b[0;34m\u001b[0m\u001b[0;34m\u001b[0m\u001b[0;34m\u001b[0m\u001b[0m\n\u001b[1;32m   1963\u001b[0m       return self._build_call_outputs(self._inference_function.call(\n\u001b[0;32m-> 1964\u001b[0;31m           ctx, args, cancellation_manager=cancellation_manager))\n\u001b[0m\u001b[1;32m   1965\u001b[0m     forward_backward = self._select_forward_and_backward_functions(\n\u001b[1;32m   1966\u001b[0m         \u001b[0margs\u001b[0m\u001b[0;34m,\u001b[0m\u001b[0;34m\u001b[0m\u001b[0;34m\u001b[0m\u001b[0m\n",
            "\u001b[0;32m/usr/local/lib/python3.7/dist-packages/tensorflow/python/eager/function.py\u001b[0m in \u001b[0;36mcall\u001b[0;34m(self, ctx, args, cancellation_manager)\u001b[0m\n\u001b[1;32m    594\u001b[0m               \u001b[0minputs\u001b[0m\u001b[0;34m=\u001b[0m\u001b[0margs\u001b[0m\u001b[0;34m,\u001b[0m\u001b[0;34m\u001b[0m\u001b[0;34m\u001b[0m\u001b[0m\n\u001b[1;32m    595\u001b[0m               \u001b[0mattrs\u001b[0m\u001b[0;34m=\u001b[0m\u001b[0mattrs\u001b[0m\u001b[0;34m,\u001b[0m\u001b[0;34m\u001b[0m\u001b[0;34m\u001b[0m\u001b[0m\n\u001b[0;32m--> 596\u001b[0;31m               ctx=ctx)\n\u001b[0m\u001b[1;32m    597\u001b[0m         \u001b[0;32melse\u001b[0m\u001b[0;34m:\u001b[0m\u001b[0;34m\u001b[0m\u001b[0;34m\u001b[0m\u001b[0m\n\u001b[1;32m    598\u001b[0m           outputs = execute.execute_with_cancellation(\n",
            "\u001b[0;32m/usr/local/lib/python3.7/dist-packages/tensorflow/python/eager/execute.py\u001b[0m in \u001b[0;36mquick_execute\u001b[0;34m(op_name, num_outputs, inputs, attrs, ctx, name)\u001b[0m\n\u001b[1;32m     58\u001b[0m     \u001b[0mctx\u001b[0m\u001b[0;34m.\u001b[0m\u001b[0mensure_initialized\u001b[0m\u001b[0;34m(\u001b[0m\u001b[0;34m)\u001b[0m\u001b[0;34m\u001b[0m\u001b[0;34m\u001b[0m\u001b[0m\n\u001b[1;32m     59\u001b[0m     tensors = pywrap_tfe.TFE_Py_Execute(ctx._handle, device_name, op_name,\n\u001b[0;32m---> 60\u001b[0;31m                                         inputs, attrs, num_outputs)\n\u001b[0m\u001b[1;32m     61\u001b[0m   \u001b[0;32mexcept\u001b[0m \u001b[0mcore\u001b[0m\u001b[0;34m.\u001b[0m\u001b[0m_NotOkStatusException\u001b[0m \u001b[0;32mas\u001b[0m \u001b[0me\u001b[0m\u001b[0;34m:\u001b[0m\u001b[0;34m\u001b[0m\u001b[0;34m\u001b[0m\u001b[0m\n\u001b[1;32m     62\u001b[0m     \u001b[0;32mif\u001b[0m \u001b[0mname\u001b[0m \u001b[0;32mis\u001b[0m \u001b[0;32mnot\u001b[0m \u001b[0;32mNone\u001b[0m\u001b[0;34m:\u001b[0m\u001b[0;34m\u001b[0m\u001b[0;34m\u001b[0m\u001b[0m\n",
            "\u001b[0;31mResourceExhaustedError\u001b[0m:  OOM when allocating tensor with shape[200,200] and type float on /job:localhost/replica:0/task:0/device:GPU:0 by allocator GPU_0_bfc\n\t [[{{node sequential_4/lstm_4/while/body/_1/sequential_4/lstm_4/while/lstm_cell_4/strided_slice}}]]\nHint: If you want to see a list of allocated tensors when OOM happens, add report_tensor_allocations_upon_oom to RunOptions for current allocation info. This isn't available when running in Eager mode.\n [Op:__inference_train_function_12607]\n\nFunction call stack:\ntrain_function\n"
          ]
        }
      ]
    },
    {
      "cell_type": "code",
      "metadata": {
        "id": "d9zX-VhJhMOP"
      },
      "source": [
        "# model.save('try_1.h5')"
      ],
      "execution_count": null,
      "outputs": []
    },
    {
      "cell_type": "code",
      "metadata": {
        "id": "issaqdtxqVIh"
      },
      "source": [
        "\n",
        "# #plot the training and validation accuracy and loss at each epoch\n",
        "# loss = history.history['loss']\n",
        "# val_loss = history.history['val_loss']\n",
        "# epochs = range(1, len(loss) + 1)\n",
        "# plt.plot(epochs, loss, 'y', label='Training loss')\n",
        "# plt.plot(epochs, val_loss, 'r', label='Validation loss')\n",
        "# plt.title('Training and validation loss')\n",
        "# plt.xlabel('Epochs')\n",
        "# plt.ylabel('Loss')\n",
        "# plt.legend()\n",
        "# plt.show()\n",
        "\n",
        "# acc = history.history['acc']\n",
        "# val_acc = history.history['val_acc']\n",
        "# plt.plot(epochs, acc, 'y', label='Training acc')\n",
        "# plt.plot(epochs, val_acc, 'r', label='Validation acc')\n",
        "# plt.title('Training and validation accuracy')\n",
        "# plt.xlabel('Epochs')\n",
        "# plt.ylabel('Accuracy')\n",
        "# plt.legend()\n",
        "# plt.show()"
      ],
      "execution_count": null,
      "outputs": []
    },
    {
      "cell_type": "code",
      "metadata": {
        "id": "F0gIb8Q7qSs2"
      },
      "source": [
        "predicted = model.predict(X_test)  \n",
        "\n",
        "rmse = np.sqrt(((predicted - y_test) ** 2).mean(axis=1))"
      ],
      "execution_count": null,
      "outputs": []
    },
    {
      "cell_type": "code",
      "metadata": {
        "id": "5-bC-3o4jZVv"
      },
      "source": [
        "final = pd.DataFrame(predicted,Y_test)"
      ],
      "execution_count": null,
      "outputs": []
    },
    {
      "cell_type": "code",
      "metadata": {
        "id": "yfwUBH9svFQe"
      },
      "source": [
        "final"
      ],
      "execution_count": null,
      "outputs": []
    },
    {
      "cell_type": "code",
      "metadata": {
        "id": "33tQw7qqpObf"
      },
      "source": [
        "pd.DataFrame(predicted.reshape(45,10001)).to_csv(\"predicted.csv\")  "
      ],
      "execution_count": null,
      "outputs": []
    },
    {
      "cell_type": "code",
      "metadata": {
        "id": "DcbeMEMRvB_0"
      },
      "source": [
        "# save Model\n",
        "model_json = model.to_json()\n",
        "with open('model.json', 'W',) as json_file:\n",
        "    json_file.write(model_json)\n",
        "model.save_weights('model.h5')"
      ],
      "execution_count": null,
      "outputs": []
    },
    {
      "cell_type": "code",
      "metadata": {
        "id": "FJ9T78VNvtWA"
      },
      "source": [
        ""
      ],
      "execution_count": null,
      "outputs": []
    }
  ]
}