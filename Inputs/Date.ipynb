{
 "cells": [
  {
   "cell_type": "code",
   "execution_count": 1,
   "id": "breathing-residence",
   "metadata": {},
   "outputs": [],
   "source": [
    "import pandas as pd\n",
    "import numpy as np\n",
    "from scipy import signal\n",
    "from numpy import savetxt\n",
    "import os"
   ]
  },
  {
   "cell_type": "code",
   "execution_count": 2,
   "id": "filled-delivery",
   "metadata": {},
   "outputs": [],
   "source": [
    "def creat_df(fle):\n",
    "    df = pd.read_csv(path + fle, sep = ',')\n",
    "    df = df.rename(columns = {'Column1':'Time', 'Column2':'Vm','ICaL':'ICaL','IK1':'IK1','Ikr':'Ikr','IKur':'IKur','INa':'INa'})\n",
    "    df['Time'] = df['Time']-45000\n",
    "    df = df.dropna()\n",
    "    return df"
   ]
  },
  {
   "cell_type": "code",
   "execution_count": 3,
   "id": "theoretical-gateway",
   "metadata": {},
   "outputs": [],
   "source": [
    "def split_date(df):\n",
    "    look_1 = df.loc[:24999,[\"Vm\"]]\n",
    "    look_2 = df.loc[25000:49000,[\"Vm\"]]\n",
    "    look_3 = df.loc[50000:74999,[\"Vm\"]]\n",
    "    look_4 = df.loc[75000:99999,[\"Vm\"]]\n",
    "    return look_1, look_2, look_3, look_4\n",
    "    "
   ]
  },
  {
   "cell_type": "code",
   "execution_count": 4,
   "id": "complex-financing",
   "metadata": {},
   "outputs": [],
   "source": [
    "def date_12(X_ds, Y_ds,look):\n",
    "    index = look[look['Vm'] == look['Vm'].min()]\n",
    "    prime = index.index.values[0]\n",
    "    l_prime = prime + 12000\n",
    "\n",
    "    x_ds = df[['ICaL','IK1','IKr','IKur','INa']].iloc[0]\n",
    "    x_ds = x_ds.to_numpy()\n",
    "    x_ds = x_ds.reshape((5,1))\n",
    "\n",
    "    y_ds = df[['Vm']].iloc[prime:l_prime]\n",
    "    y_ds = y_ds.to_numpy()\n",
    "    \n",
    "\n",
    "    if y_ds.shape == (12000,1):\n",
    "               \n",
    "        X_ds = np.append(X_ds,x_ds,axis = 0)\n",
    "        Y_ds = np.append(Y_ds,y_ds,axis = 0)\n",
    "    return X_ds, Y_ds"
   ]
  },
  {
   "cell_type": "code",
   "execution_count": 5,
   "id": "imposed-infrared",
   "metadata": {},
   "outputs": [],
   "source": [
    "def downsampling(Y_new,i):\n",
    "    \n",
    "    y_new = signal.resample(Y_ds[i],5000)\n",
    "    y_new = np.delete(y_new,slice(0,50),0)\n",
    "    y_new = np.delete(y_new,np.s_[4900:4950],0)\n",
    "    Y_new = np.append(Y_new,y_new)\n",
    "    \n",
    "    return Y_new\n",
    "    \n",
    "\n"
   ]
  },
  {
   "cell_type": "markdown",
   "id": "protecting-regression",
   "metadata": {},
   "source": [
    "Data"
   ]
  },
  {
   "cell_type": "code",
   "execution_count": 6,
   "id": "integral-domain",
   "metadata": {},
   "outputs": [],
   "source": [
    "path = 'DATE/'\n",
    "all_files = os.listdir(path)"
   ]
  },
  {
   "cell_type": "code",
   "execution_count": 7,
   "id": "known-excitement",
   "metadata": {},
   "outputs": [],
   "source": [
    "X_ds  = np.zeros([5,1])\n",
    "Y_ds  = np.zeros([12000,1])"
   ]
  },
  {
   "cell_type": "code",
   "execution_count": 12,
   "id": "clinical-kruger",
   "metadata": {},
   "outputs": [],
   "source": [
    "for fle in all_files:\n",
    "    df = creat_df(fle)\n",
    "    look_1, look_2, look_3, look_4 = split_date(df)\n",
    "    X_ds, Y_ds = date_12(X_ds, Y_ds,look_1)\n",
    "    X_ds, Y_ds = date_12(X_ds, Y_ds,look_2)\n",
    "    X_ds, Y_ds = date_12(X_ds, Y_ds,look_3)\n",
    "    X_ds, Y_ds = date_12(X_ds, Y_ds,look_4)"
   ]
  },
  {
   "cell_type": "code",
   "execution_count": 13,
   "id": "faced-magnet",
   "metadata": {},
   "outputs": [
    {
     "name": "stdout",
     "output_type": "stream",
     "text": [
      "(970, 5)\n",
      "(970, 12000)\n"
     ]
    }
   ],
   "source": [
    "X_ds = X_ds.reshape((971,5))\n",
    "Y_ds = Y_ds.reshape((971,12000))\n",
    "X_ds = np.delete(X_ds,0,0)\n",
    "Y_ds = np.delete(Y_ds,0,0)\n",
    "print(X_ds.shape)\n",
    "print(Y_ds.shape)"
   ]
  },
  {
   "cell_type": "markdown",
   "id": "molecular-charger",
   "metadata": {},
   "source": [
    "Downsampling"
   ]
  },
  {
   "cell_type": "code",
   "execution_count": 14,
   "id": "global-simon",
   "metadata": {},
   "outputs": [],
   "source": [
    "Y_new = np.zeros([4900,1])\n",
    "for i in range(970):\n",
    "    Y_new = downsampling(Y_new,i)\n",
    "Y_new = Y_new.reshape((971,4900))\n",
    "Y_new = np.delete(Y_new,0,0)"
   ]
  },
  {
   "cell_type": "code",
   "execution_count": 15,
   "id": "neither-friendly",
   "metadata": {},
   "outputs": [],
   "source": [
    "savetxt('train_x.csv', X_ds , delimiter=',')\n",
    "savetxt('train_y.csv', Y_new , delimiter=',')"
   ]
  },
  {
   "cell_type": "code",
   "execution_count": null,
   "id": "southeast-primary",
   "metadata": {},
   "outputs": [],
   "source": []
  }
 ],
 "metadata": {
  "kernelspec": {
   "display_name": "Python 3",
   "language": "python",
   "name": "python3"
  },
  "language_info": {
   "codemirror_mode": {
    "name": "ipython",
    "version": 3
   },
   "file_extension": ".py",
   "mimetype": "text/x-python",
   "name": "python",
   "nbconvert_exporter": "python",
   "pygments_lexer": "ipython3",
   "version": "3.8.6"
  }
 },
 "nbformat": 4,
 "nbformat_minor": 5
}
