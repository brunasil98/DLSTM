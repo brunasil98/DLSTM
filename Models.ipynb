{
 "cells": [
  {
   "cell_type": "code",
   "execution_count": null,
   "id": "8c44e511",
   "metadata": {},
   "outputs": [],
   "source": [
    "from keras.models import Sequential \n",
    "from keras.layers.core import Dense, Activation, Dropout \n",
    "from keras.layers.recurrent import LSTM"
   ]
  },
  {
   "cell_type": "code",
   "execution_count": null,
   "id": "3bb34fcc",
   "metadata": {},
   "outputs": [],
   "source": [
    "def model_2LSTM():\n",
    "    out_neurons = 7200\n",
    "    hidden_neurons = 6200 \n",
    "    hidden_neurons_2 = 5800\n",
    "    hidden_neurons_3 = 5350\n",
    "    hidden_neurons_4 = 4900\n",
    "\n",
    "\n",
    "    #Creating Model\n",
    "    model = Sequential()  \n",
    "\n",
    "    model.add(LSTM(out_neurons, input_dim=5, return_sequences=True)) \n",
    "    model.add(LSTM(hidden_neurons, return_sequences=True))\n",
    "    model.add(Dense(hidden_neurons_2))\n",
    "    model.add(Dense(hidden_neurons_3))\n",
    "    model.add(Dense(hidden_neurons_4))\n",
    "    \n",
    "    return model_2LSTM"
   ]
  },
  {
   "cell_type": "code",
   "execution_count": null,
   "id": "bd9fc11e",
   "metadata": {},
   "outputs": [],
   "source": [
    "def model_3LSTM():\n",
    "    out_neurons = 8400\n",
    "    out_neurons_2 = 7800\n",
    "    out_neurons_3 = 7400\n",
    "    dp = 0.2\n",
    "    hidden_neurons_2 = 5800\n",
    "    hidden_neurons_3 = 5350\n",
    "    hidden_neurons_4 = 4900\n",
    "\n",
    "\n",
    "    #Creating Model\n",
    "    model = Sequential()  \n",
    "\n",
    "    model.add(LSTM(out_neurons, input_dim=5, return_sequences=True)) \n",
    "    model.add(LSTM(out_neurons_2, return_sequences=True))\n",
    "    model.add(LSTM(out_neurons_3, return_sequences=True))\n",
    "    model.add(Dropout(dp))\n",
    "    model.add(Dense(hidden_neurons_2))\n",
    "    model.add(Dense(hidden_neurons_3))\n",
    "    model.add(Dense(hidden_neurons_4))\n",
    "\n",
    "    return model_3LSTM"
   ]
  },
  {
   "cell_type": "code",
   "execution_count": null,
   "id": "380d235d",
   "metadata": {},
   "outputs": [],
   "source": [
    "def model_compile(model):\n",
    "    model.compile(loss='mean_squared_error', optimizer=\"adam\")"
   ]
  },
  {
   "cell_type": "code",
   "execution_count": null,
   "id": "4771e4db",
   "metadata": {},
   "outputs": [],
   "source": []
  }
 ],
 "metadata": {
  "kernelspec": {
   "display_name": "Python 3 (ipykernel)",
   "language": "python",
   "name": "python3"
  },
  "language_info": {
   "codemirror_mode": {
    "name": "ipython",
    "version": 3
   },
   "file_extension": ".py",
   "mimetype": "text/x-python",
   "name": "python",
   "nbconvert_exporter": "python",
   "pygments_lexer": "ipython3",
   "version": "3.8.12"
  }
 },
 "nbformat": 4,
 "nbformat_minor": 5
}
