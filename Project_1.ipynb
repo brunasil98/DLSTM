{
  "nbformat": 4,
  "nbformat_minor": 0,
  "metadata": {
    "accelerator": "TPU",
    "colab": {
      "name": "Project_1.ipynb",
      "provenance": [],
      "machine_shape": "hm",
      "authorship_tag": "ABX9TyMfwRTwUPlAfqQwsQ/j0+q7",
      "include_colab_link": true
    },
    "kernelspec": {
      "display_name": "Python 3",
      "name": "python3"
    },
    "language_info": {
      "name": "python"
    }
  },
  "cells": [
    {
      "cell_type": "markdown",
      "metadata": {
        "id": "view-in-github",
        "colab_type": "text"
      },
      "source": [
        "<a href=\"https://colab.research.google.com/github/brunasil98/LSTM/blob/master/Project_1.ipynb\" target=\"_parent\"><img src=\"https://colab.research.google.com/assets/colab-badge.svg\" alt=\"Open In Colab\"/></a>"
      ]
    },
    {
      "cell_type": "code",
      "metadata": {
        "id": "_5NJ-mNljJAr"
      },
      "source": [
        "import pandas as pd  \n",
        "from random import random\n",
        "import numpy as np\n",
        "from sklearn.model_selection import train_test_split\n",
        "from keras.models import Sequential  \n",
        "from keras.layers.core import Dense, Activation  \n",
        "from keras.layers.recurrent import LSTM\n",
        "import matplotlib.pyplot as plt\n",
        "import os\n",
        "import cv2"
      ],
      "execution_count": null,
      "outputs": []
    },
    {
      "cell_type": "code",
      "metadata": {
        "colab": {
          "base_uri": "https://localhost:8080/"
        },
        "id": "Pi-hIFeStuHg",
        "outputId": "79d7e1d7-9236-4cc0-9a52-cfc59962205f"
      },
      "source": [
        "from google.colab import drive\n",
        "drive.mount('/content/drive')"
      ],
      "execution_count": null,
      "outputs": [
        {
          "output_type": "stream",
          "name": "stdout",
          "text": [
            "Mounted at /content/drive\n"
          ]
        }
      ]
    },
    {
      "cell_type": "code",
      "metadata": {
        "id": "ayyVYR5cJqLX"
      },
      "source": [
        "path = '/content/drive/MyDrive/HISPC /DATA/All_Data/'\n"
      ],
      "execution_count": null,
      "outputs": []
    },
    {
      "cell_type": "code",
      "metadata": {
        "id": "WO4VfGL7ko7D"
      },
      "source": [
        "all_files = os.listdir(path)\n",
        "dataset = []\n",
        "X_ds = []\n",
        "Y_ds = []\n"
      ],
      "execution_count": null,
      "outputs": []
    },
    {
      "cell_type": "code",
      "metadata": {
        "id": "kLxZhiyDJ0U8"
      },
      "source": [
        "for fle in all_files:\n",
        "  df = pd.read_csv(path + fle, sep = ' ')\n",
        "  df.columns = ['Time', 'Vm']\n",
        "  df['Time'] = df[\"Time\"]-45000\n",
        "  dataset.append(df)\n",
        "  X_ds.append(df['Time'])\n",
        "  Y_ds.append(df['Vm'])"
      ],
      "execution_count": null,
      "outputs": []
    },
    {
      "cell_type": "code",
      "metadata": {
        "colab": {
          "base_uri": "https://localhost:8080/"
        },
        "id": "79Z6ta8qLXk0",
        "outputId": "bd10fb57-197b-42ef-f7db-640759e27864"
      },
      "source": [
        "Y_ds [4]"
      ],
      "execution_count": 19,
      "outputs": [
        {
          "output_type": "execute_result",
          "data": {
            "text/plain": [
              "array([[-65.06562981],\n",
              "       [-65.0613692 ],\n",
              "       [-65.05710237],\n",
              "       ...,\n",
              "       [-20.45791402],\n",
              "       [-20.5088522 ],\n",
              "       [-20.5598109 ]])"
            ]
          },
          "metadata": {},
          "execution_count": 19
        }
      ]
    },
    {
      "cell_type": "code",
      "metadata": {
        "id": "UqyHsagoKM8N"
      },
      "source": [
        "X_ds = np.asarray(X_ds)\n",
        "Y_ds = np.asarray(Y_ds)\n",
        "Y_ds = Y_ds.reshape((Y_ds.shape[0],Y_ds.shape[1],1))\n",
        "X_ds = X_ds.reshape((X_ds.shape[0],X_ds.shape[1],1))"
      ],
      "execution_count": null,
      "outputs": []
    },
    {
      "cell_type": "code",
      "metadata": {
        "colab": {
          "base_uri": "https://localhost:8080/"
        },
        "id": "k_TBL85hX_kl",
        "outputId": "06389981-ce1e-4d1f-9d76-b0698cce2831"
      },
      "source": [
        "X_ds.shape"
      ],
      "execution_count": null,
      "outputs": [
        {
          "output_type": "execute_result",
          "data": {
            "text/plain": [
              "(330, 99999, 1)"
            ]
          },
          "metadata": {},
          "execution_count": 13
        }
      ]
    },
    {
      "cell_type": "code",
      "metadata": {
        "id": "HR6D891dfoFx"
      },
      "source": [
        " X_train, X_test, y_train, y_test = train_test_split(X_ds, Y_ds, test_size=0.2)"
      ],
      "execution_count": null,
      "outputs": []
    },
    {
      "cell_type": "code",
      "metadata": {
        "id": "ACmUi8-Pgj0n"
      },
      "source": [
        "in_neurons = 1\n",
        "out_neurons = 1\n",
        "hidden_neurons = 50"
      ],
      "execution_count": null,
      "outputs": []
    },
    {
      "cell_type": "code",
      "metadata": {
        "id": "u72Rpu8_gteR"
      },
      "source": [
        "model = Sequential()  \n",
        "\n",
        "model.add(LSTM(hidden_neurons, input_dim=in_neurons, return_sequences=True)) \n",
        "\n",
        "model.add(Dense(30, input_dim=hidden_neurons))\n",
        "model.add(Dense(out_neurons, input_dim=30))\n",
        "\n",
        "model.add(Activation(\"linear\"))  \n",
        "\n",
        "model.compile(loss=\"mean_squared_error\", optimizer=\"rmsprop\",metrics = ['acc'])"
      ],
      "execution_count": null,
      "outputs": []
    },
    {
      "cell_type": "code",
      "metadata": {
        "colab": {
          "base_uri": "https://localhost:8080/"
        },
        "id": "tDiClxq_iuSj",
        "outputId": "f53d00d7-41e7-4d73-c177-aebde72c3830"
      },
      "source": [
        "print(model.summary())   "
      ],
      "execution_count": null,
      "outputs": [
        {
          "output_type": "stream",
          "name": "stdout",
          "text": [
            "Model: \"sequential\"\n",
            "_________________________________________________________________\n",
            "Layer (type)                 Output Shape              Param #   \n",
            "=================================================================\n",
            "lstm (LSTM)                  (None, None, 50)          10400     \n",
            "_________________________________________________________________\n",
            "dense (Dense)                (None, None, 30)          1530      \n",
            "_________________________________________________________________\n",
            "dense_1 (Dense)              (None, None, 1)           31        \n",
            "_________________________________________________________________\n",
            "activation (Activation)      (None, None, 1)           0         \n",
            "=================================================================\n",
            "Total params: 11,961\n",
            "Trainable params: 11,961\n",
            "Non-trainable params: 0\n",
            "_________________________________________________________________\n",
            "None\n"
          ]
        }
      ]
    },
    {
      "cell_type": "code",
      "metadata": {
        "colab": {
          "base_uri": "https://localhost:8080/"
        },
        "id": "UTJvuwVMgv0I",
        "outputId": "6dd5997f-e6dc-4111-87c0-f8d91fa8793b"
      },
      "source": [
        "history = model.fit(X_train, y_train, batch_size=25, epochs=20, validation_split=0.10)  "
      ],
      "execution_count": null,
      "outputs": [
        {
          "output_type": "stream",
          "name": "stdout",
          "text": [
            "Epoch 1/20\n",
            "10/10 [==============================] - 1890s 194s/step - loss: 3409.2246 - acc: 0.0000e+00 - val_loss: 3134.6609 - val_acc: 0.0000e+00\n",
            "Epoch 2/20\n",
            "10/10 [==============================] - 1805s 181s/step - loss: 3153.5991 - acc: 0.0000e+00 - val_loss: 2936.7109 - val_acc: 0.0000e+00\n",
            "Epoch 3/20\n",
            "10/10 [==============================] - 1830s 183s/step - loss: 2931.1980 - acc: 0.0000e+00 - val_loss: 2712.6013 - val_acc: 0.0000e+00\n",
            "Epoch 4/20\n",
            "10/10 [==============================] - 1868s 187s/step - loss: 2742.7915 - acc: 0.0000e+00 - val_loss: 2471.9033 - val_acc: 0.0000e+00\n",
            "Epoch 5/20\n",
            "10/10 [==============================] - 1862s 186s/step - loss: 2495.3774 - acc: 0.0000e+00 - val_loss: 2249.8069 - val_acc: 0.0000e+00\n",
            "Epoch 6/20\n",
            "10/10 [==============================] - 1929s 194s/step - loss: 2293.6855 - acc: 0.0000e+00 - val_loss: 2014.5190 - val_acc: 0.0000e+00\n",
            "Epoch 7/20\n",
            "10/10 [==============================] - 1791s 181s/step - loss: 2046.9633 - acc: 0.0000e+00 - val_loss: 1757.2183 - val_acc: 0.0000e+00\n",
            "Epoch 8/20\n",
            "10/10 [==============================] - 2434s 251s/step - loss: 1825.1115 - acc: 0.0000e+00 - val_loss: 1564.7209 - val_acc: 0.0000e+00\n",
            "Epoch 9/20\n",
            "10/10 [==============================] - 2085s 214s/step - loss: 1593.8834 - acc: 0.0000e+00 - val_loss: 1300.3256 - val_acc: 0.0000e+00\n",
            "Epoch 10/20\n",
            "10/10 [==============================] - 2259s 218s/step - loss: 1404.5258 - acc: 0.0000e+00 - val_loss: 1125.5363 - val_acc: 0.0000e+00\n",
            "Epoch 11/20\n",
            "10/10 [==============================] - 2675s 271s/step - loss: 1209.4072 - acc: 0.0000e+00 - val_loss: 905.3766 - val_acc: 0.0000e+00\n",
            "Epoch 12/20\n",
            "10/10 [==============================] - 2612s 259s/step - loss: 1045.3571 - acc: 0.0000e+00 - val_loss: 747.8409 - val_acc: 0.0000e+00\n",
            "Epoch 13/20\n",
            "10/10 [==============================] - 2507s 252s/step - loss: 917.7296 - acc: 0.0000e+00 - val_loss: 651.2178 - val_acc: 0.0000e+00\n",
            "Epoch 14/20\n",
            "10/10 [==============================] - 1978s 194s/step - loss: 861.9384 - acc: 0.0000e+00 - val_loss: 595.2943 - val_acc: 0.0000e+00\n",
            "Epoch 15/20\n",
            "10/10 [==============================] - 3450s 362s/step - loss: 835.8757 - acc: 0.0000e+00 - val_loss: 580.9338 - val_acc: 0.0000e+00\n",
            "Epoch 16/20\n",
            "10/10 [==============================] - 2957s 282s/step - loss: 830.8817 - acc: 0.0000e+00 - val_loss: 573.1125 - val_acc: 0.0000e+00\n",
            "Epoch 17/20\n",
            "10/10 [==============================] - 1631s 163s/step - loss: 830.7336 - acc: 0.0000e+00 - val_loss: 581.7374 - val_acc: 0.0000e+00\n",
            "Epoch 18/20\n",
            "10/10 [==============================] - 2007s 205s/step - loss: 832.1255 - acc: 0.0000e+00 - val_loss: 573.1575 - val_acc: 0.0000e+00\n",
            "Epoch 19/20\n",
            "10/10 [==============================] - 1878s 184s/step - loss: 830.3026 - acc: 0.0000e+00 - val_loss: 573.3950 - val_acc: 0.0000e+00\n",
            "Epoch 20/20\n",
            " 9/10 [==========================>...] - ETA: 2:55 - loss: 830.4192 - acc: 0.0000e+00"
          ]
        }
      ]
    },
    {
      "cell_type": "code",
      "metadata": {
        "id": "d9zX-VhJhMOP"
      },
      "source": [
        "#model.save('try_1.h5')"
      ],
      "execution_count": null,
      "outputs": []
    },
    {
      "cell_type": "code",
      "metadata": {
        "id": "issaqdtxqVIh"
      },
      "source": [
        "\n",
        "#plot the training and validation accuracy and loss at each epoch\n",
        "loss = history.history['loss']\n",
        "val_loss = history.history['val_loss']\n",
        "epochs = range(1, len(loss) + 1)\n",
        "plt.plot(epochs, loss, 'y', label='Training loss')\n",
        "plt.plot(epochs, val_loss, 'r', label='Validation loss')\n",
        "plt.title('Training and validation loss')\n",
        "plt.xlabel('Epochs')\n",
        "plt.ylabel('Loss')\n",
        "plt.legend()\n",
        "plt.show()\n",
        "\n",
        "# acc = history.history['acc']\n",
        "# val_acc = history.history['val_acc']\n",
        "# plt.plot(epochs, acc, 'y', label='Training acc')\n",
        "# plt.plot(epochs, val_acc, 'r', label='Validation acc')\n",
        "# plt.title('Training and validation accuracy')\n",
        "# plt.xlabel('Epochs')\n",
        "# plt.ylabel('Accuracy')\n",
        "# plt.legend()\n",
        "# plt.show()"
      ],
      "execution_count": null,
      "outputs": []
    },
    {
      "cell_type": "code",
      "metadata": {
        "id": "F0gIb8Q7qSs2"
      },
      "source": [
        "predicted = model.predict(X_test)  \n",
        "\n",
        "rmse = np.sqrt(((predicted - y_test) ** 2).mean(axis=1))"
      ],
      "execution_count": null,
      "outputs": []
    },
    {
      "cell_type": "code",
      "metadata": {
        "id": "5-bC-3o4jZVv",
        "colab": {
          "base_uri": "https://localhost:8080/"
        },
        "outputId": "0d39522d-80d3-4188-ea98-7f0fa432b39f"
      },
      "source": [
        "final = pd.DataFrame(predicted,Y_test)"
      ],
      "execution_count": null,
      "outputs": [
        {
          "output_type": "error",
          "ename": "NameError",
          "evalue": "ignored",
          "traceback": [
            "\u001b[0;31m---------------------------------------------------------------------------\u001b[0m",
            "\u001b[0;31mNameError\u001b[0m                                 Traceback (most recent call last)",
            "\u001b[0;32m<ipython-input-3-73a3a73810c3>\u001b[0m in \u001b[0;36m<module>\u001b[0;34m()\u001b[0m\n\u001b[1;32m      1\u001b[0m \u001b[0;34m\u001b[0m\u001b[0m\n\u001b[1;32m      2\u001b[0m \u001b[0;31m#plot the training and validation accuracy and loss at each epoch\u001b[0m\u001b[0;34m\u001b[0m\u001b[0;34m\u001b[0m\u001b[0;34m\u001b[0m\u001b[0m\n\u001b[0;32m----> 3\u001b[0;31m \u001b[0mloss\u001b[0m \u001b[0;34m=\u001b[0m \u001b[0mhistory\u001b[0m\u001b[0;34m.\u001b[0m\u001b[0mhistory\u001b[0m\u001b[0;34m[\u001b[0m\u001b[0;34m'loss'\u001b[0m\u001b[0;34m]\u001b[0m\u001b[0;34m\u001b[0m\u001b[0;34m\u001b[0m\u001b[0m\n\u001b[0m\u001b[1;32m      4\u001b[0m \u001b[0mval_loss\u001b[0m \u001b[0;34m=\u001b[0m \u001b[0mhistory\u001b[0m\u001b[0;34m.\u001b[0m\u001b[0mhistory\u001b[0m\u001b[0;34m[\u001b[0m\u001b[0;34m'val_loss'\u001b[0m\u001b[0;34m]\u001b[0m\u001b[0;34m\u001b[0m\u001b[0;34m\u001b[0m\u001b[0m\n\u001b[1;32m      5\u001b[0m \u001b[0mepochs\u001b[0m \u001b[0;34m=\u001b[0m \u001b[0mrange\u001b[0m\u001b[0;34m(\u001b[0m\u001b[0;36m1\u001b[0m\u001b[0;34m,\u001b[0m \u001b[0mlen\u001b[0m\u001b[0;34m(\u001b[0m\u001b[0mloss\u001b[0m\u001b[0;34m)\u001b[0m \u001b[0;34m+\u001b[0m \u001b[0;36m1\u001b[0m\u001b[0;34m)\u001b[0m\u001b[0;34m\u001b[0m\u001b[0;34m\u001b[0m\u001b[0m\n",
            "\u001b[0;31mNameError\u001b[0m: name 'history' is not defined"
          ]
        }
      ]
    },
    {
      "cell_type": "code",
      "metadata": {
        "id": "33tQw7qqpObf"
      },
      "source": [
        ""
      ],
      "execution_count": null,
      "outputs": []
    }
  ]
}